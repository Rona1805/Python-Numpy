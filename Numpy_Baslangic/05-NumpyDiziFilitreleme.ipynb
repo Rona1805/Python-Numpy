{
 "cells": [
  {
   "cell_type": "markdown",
   "id": "53688774-d6ff-441a-92c0-fc2d42423583",
   "metadata": {},
   "source": [
    "27.01.2023"
   ]
  },
  {
   "cell_type": "markdown",
   "id": "152c4896-4ea6-4ee0-873d-e9782b8536f1",
   "metadata": {},
   "source": [
    "### Filtreleme Diziler"
   ]
  },
  {
   "cell_type": "markdown",
   "id": "120a6fb5-a70a-4b03-b503-c212528a3c91",
   "metadata": {},
   "source": [
    "Varolan bir diziden bazı öğeleri çıkarma ve yeni bir dizi oluşturma bunlardan **filtreleme** denir.\n",
    "\n",
    "NumPy'de, bir boole dizin listesi kullanarak bir diziye filtre uygularsınız.\n",
    "\n",
    "Bir dizindeki değer o öğenin filtrelenmiş dizide yer almasıysa, bu dizindeki değer o öğeyse, filtre uygulanan diziden dışlanır."
   ]
  },
  {
   "cell_type": "code",
   "execution_count": 1,
   "id": "657eeaf1-9e52-436d-afb2-60492d95f267",
   "metadata": {},
   "outputs": [],
   "source": [
    "import numpy as np"
   ]
  },
  {
   "cell_type": "code",
   "execution_count": 16,
   "id": "2fe49fe2-2f3a-4e75-a255-7c246ceac318",
   "metadata": {
    "tags": []
   },
   "outputs": [
    {
     "name": "stdout",
     "output_type": "stream",
     "text": [
      "[True, False, True, False]\n",
      "[42 44]\n"
     ]
    }
   ],
   "source": [
    "# 0 ve 2 dizinlerindeki öğelerden bir dizi oluşturun:\n",
    "dizi = np.array([42,43,44,45])\n",
    "x = [True,False,True,False]\n",
    "yeniDizi = dizi[x]\n",
    "print(x)\n",
    "print(yeniDizi)"
   ]
  },
  {
   "cell_type": "markdown",
   "id": "565eb980-647e-4d3e-b465-c22e077fd196",
   "metadata": {},
   "source": [
    "#### Filtre Dizisi Oluşturma"
   ]
  },
  {
   "cell_type": "markdown",
   "id": "d747fee6-a26f-4395-8afe-31a39a739a65",
   "metadata": {},
   "source": [
    "Yukarıdaki örnekte ve değerlerini sabit kodladık, ancak yaygın kullanım koşullara dayalı bir filtre dizisi oluşturmaktır."
   ]
  },
  {
   "cell_type": "code",
   "execution_count": 10,
   "id": "73327a03-0c1e-4487-af86-e6328b30daeb",
   "metadata": {},
   "outputs": [
    {
     "name": "stdout",
     "output_type": "stream",
     "text": [
      "[False, True, True, True]\n",
      "[43 44 45]\n"
     ]
    }
   ],
   "source": [
    "# Yalnızca 42'den yüksek değerler döndürecek bir filtre dizisi oluşturun:\n",
    "dizi = np.array([42,43,44,45])\n",
    "x = []\n",
    "for i in dizi:\n",
    "    if i>42:\n",
    "        x.append(True)\n",
    "    else:\n",
    "        x.append(False)\n",
    "yeniDizi = dizi[x]\n",
    "print(x)\n",
    "print(yeniDizi)"
   ]
  },
  {
   "cell_type": "code",
   "execution_count": 23,
   "id": "d35035d1-6068-4e6e-be89-2fff6eecbe0f",
   "metadata": {},
   "outputs": [
    {
     "name": "stdout",
     "output_type": "stream",
     "text": [
      "[True, False, True, False]\n",
      "[42 44]\n"
     ]
    }
   ],
   "source": [
    "# Orijinalden yalnızca çift öğeleri döndürecek bir filtre dizisi oluşturun dizi:\n",
    "dizi = np.array([42,43,44,45])\n",
    "x = []\n",
    "for i in dizi:\n",
    "    if i % 2 == 0:\n",
    "        x.append(True)\n",
    "    else:\n",
    "        x.append(False)\n",
    "yeniDizi = dizi[x]\n",
    "print(x)\n",
    "print(yeniDizi)\n"
   ]
  },
  {
   "cell_type": "markdown",
   "id": "2176db15-4dea-4938-a43b-781014ad962a",
   "metadata": {},
   "source": [
    "#### Doğrudan Diziden Filtre Oluşturma"
   ]
  },
  {
   "cell_type": "code",
   "execution_count": 14,
   "id": "3602030d-f9b8-42b8-aa3f-655d9d4453ea",
   "metadata": {},
   "outputs": [
    {
     "name": "stdout",
     "output_type": "stream",
     "text": [
      "[False  True  True  True]\n",
      "[43 44 45]\n"
     ]
    }
   ],
   "source": [
    "# Yalnızca 42'den yüksek değerler döndürecek bir filtre dizisi oluşturun:\n",
    "dizi = np.array([42,43,44,45])\n",
    "filterDizi = dizi>42\n",
    "yeniDizi = dizi[filterDizi]\n",
    "print(filterDizi)\n",
    "print(yeniDizi)"
   ]
  },
  {
   "cell_type": "code",
   "execution_count": 15,
   "id": "8047f89f-699b-4f7b-ad33-ab9f00f8756f",
   "metadata": {},
   "outputs": [
    {
     "name": "stdout",
     "output_type": "stream",
     "text": [
      "[ True False  True False]\n",
      "[42 44]\n"
     ]
    }
   ],
   "source": [
    "dizi = np.array([42,43,44,45])\n",
    "filterDizi = dizi % 2 == 0 \n",
    "yeniDizi = dizi[filterDizi]\n",
    "print(filterDizi)\n",
    "print(yeniDizi)"
   ]
  },
  {
   "cell_type": "code",
   "execution_count": 60,
   "id": "3330212a-f1b2-4fc3-986f-ce2ace3be459",
   "metadata": {},
   "outputs": [
    {
     "name": "stdout",
     "output_type": "stream",
     "text": [
      "[False False  True  True  True  True]\n",
      "[30 40 50 60]\n"
     ]
    }
   ],
   "source": [
    "dizi = np.array([[10,20,30],[40,50,60]])\n",
    "dizi2 = dizi.reshape(-1)\n",
    "filterDizi = dizi2 >20\n",
    "print(filterDizi)\n",
    "yeniDizi = dizi2[filterDizi]\n",
    "print(yeniDizi)"
   ]
  }
 ],
 "metadata": {
  "kernelspec": {
   "display_name": "Python 3 (ipykernel)",
   "language": "python",
   "name": "python3"
  },
  "language_info": {
   "codemirror_mode": {
    "name": "ipython",
    "version": 3
   },
   "file_extension": ".py",
   "mimetype": "text/x-python",
   "name": "python",
   "nbconvert_exporter": "python",
   "pygments_lexer": "ipython3",
   "version": "3.9.6"
  }
 },
 "nbformat": 4,
 "nbformat_minor": 5
}
