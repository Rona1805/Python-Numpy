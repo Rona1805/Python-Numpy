{
 "cells": [
  {
   "cell_type": "markdown",
   "id": "e41f1dcc-8d05-4882-93fa-c080e5f840bf",
   "metadata": {},
   "source": [
    "26.01.2023"
   ]
  },
  {
   "cell_type": "markdown",
   "id": "2d542cf8-e94a-43ac-be60-6f24ffa6c493",
   "metadata": {
    "tags": []
   },
   "source": [
    "#### Dizi Birleştirme"
   ]
  },
  {
   "cell_type": "markdown",
   "id": "34f7fae5-18c4-48aa-b1e7-fe736a87b977",
   "metadata": {},
   "source": [
    "SQL de sütunlar anahtarlarla birbirine birleştirilir. Numpyda ise eksenler birbirlerine birleştirilir."
   ]
  },
  {
   "cell_type": "code",
   "execution_count": 11,
   "id": "8009c296-e9d9-425c-b19e-e97d793901c3",
   "metadata": {},
   "outputs": [],
   "source": [
    "import numpy as np"
   ]
  },
  {
   "cell_type": "code",
   "execution_count": 23,
   "id": "17823c7f-1c46-4f27-815e-3215974da205",
   "metadata": {},
   "outputs": [
    {
     "name": "stdout",
     "output_type": "stream",
     "text": [
      "[1 2 3 4 5 6]\n",
      "(6,)\n"
     ]
    }
   ],
   "source": [
    "dizi1 = np.array([1,2,3])\n",
    "dizi2 = np.array([4,5,6])\n",
    "birlestirilmisDizi = np.concatenate((dizi1,dizi2))\n",
    "print(birlestirilmisDizi)\n",
    "print(birlestirilmisDizi.shape)"
   ]
  },
  {
   "cell_type": "code",
   "execution_count": 22,
   "id": "fe400ab5-46a1-4831-9c31-dff8c0cdadb8",
   "metadata": {},
   "outputs": [
    {
     "name": "stdout",
     "output_type": "stream",
     "text": [
      "[[ 1  2  3]\n",
      " [ 4  5  6]\n",
      " [ 7  8  9]\n",
      " [10 11 12]]\n",
      "(4, 3)\n"
     ]
    }
   ],
   "source": [
    "# 2B dizileri birleştirme\n",
    "dizi1 = np.array([[1,2,3],[4,5,6]])\n",
    "dizi2 = np.array([[7,8,9],[10,11,12]])\n",
    "birlestirilmisDizi = np.concatenate((dizi1,dizi2))\n",
    "print(birlestirilmisDizi)\n",
    "print(birlestirilmisDizi.shape)"
   ]
  },
  {
   "cell_type": "code",
   "execution_count": 47,
   "id": "01aa93fc-09fb-49d8-9b05-8bf789698e54",
   "metadata": {},
   "outputs": [
    {
     "name": "stdout",
     "output_type": "stream",
     "text": [
      "[[ 1  2  3  7  8  9]\n",
      " [ 4  5  6 10 11 12]]\n",
      "(2, 6)\n"
     ]
    }
   ],
   "source": [
    "# 2B dizileri birleştirme - eksen = 1\n",
    "dizi1 = np.array([[1,2,3],[4,5,6]])\n",
    "dizi2 = np.array([[7,8,9],[10,11,12]])\n",
    "birlestirilmisDizi = np.concatenate((dizi1,dizi2), axis=1)\n",
    "print(birlestirilmisDizi)\n",
    "print(birlestirilmisDizi.shape)"
   ]
  },
  {
   "cell_type": "markdown",
   "id": "500d8b3c-f5f2-460e-8784-2eb71e062dae",
   "metadata": {},
   "source": [
    "#### Yığın İşlevlerini Kullanarak Dizileri Birleştirme"
   ]
  },
  {
   "cell_type": "markdown",
   "id": "ede59239-b297-4a53-b633-6e53fb8fd2de",
   "metadata": {},
   "source": [
    "İstifleme işlemi birleştirme işlemi ile aynıdır. Farkı eksen boyunca birleştirme işlemi yapar.\n",
    "Herhangi bir eksen vermezsek varsayılan 0 olarak alır."
   ]
  },
  {
   "cell_type": "code",
   "execution_count": 49,
   "id": "a8f7986b-fd74-434d-be43-21550b03ca08",
   "metadata": {},
   "outputs": [
    {
     "name": "stdout",
     "output_type": "stream",
     "text": [
      "[[1 4]\n",
      " [2 5]\n",
      " [3 6]]\n"
     ]
    }
   ],
   "source": [
    "dizi1 = np.array([1,2,3])\n",
    "dizi2 = np.array([4,5,6])\n",
    "istifliDizi = np.stack((dizi1,dizi2), axis=1)\n",
    "print(istifliDizi)"
   ]
  },
  {
   "cell_type": "code",
   "execution_count": 42,
   "id": "60b2ecfe-ee29-4551-b538-b16b4987e7bd",
   "metadata": {},
   "outputs": [
    {
     "name": "stdout",
     "output_type": "stream",
     "text": [
      "[1 2 3 4 5 6]\n"
     ]
    }
   ],
   "source": [
    "# hstack satırlar boyunca istifleme yapar.\n",
    "dizi1 = np.array([1,2,3])\n",
    "dizi2 = np.array([4,5,6])\n",
    "istifliDizi = np.hstack((dizi1,dizi2))\n",
    "print(istifliDizi)"
   ]
  },
  {
   "cell_type": "code",
   "execution_count": 39,
   "id": "3b257e5c-117a-4427-bd59-81c834401920",
   "metadata": {},
   "outputs": [
    {
     "name": "stdout",
     "output_type": "stream",
     "text": [
      "[[1 2 3]\n",
      " [4 5 6]]\n"
     ]
    }
   ],
   "source": [
    "# vstack sütunlar boyunca istifleme yapar.\n",
    "dizi1 = np.array([1,2,3])\n",
    "dizi2 = np.array([4,5,6])\n",
    "istifliDizi = np.vstack((dizi1,dizi2))\n",
    "print(istifliDizi)"
   ]
  },
  {
   "cell_type": "code",
   "execution_count": 41,
   "id": "0f610c60-9349-4609-9261-d088f5a47483",
   "metadata": {},
   "outputs": [
    {
     "name": "stdout",
     "output_type": "stream",
     "text": [
      "[[[1 4]\n",
      "  [2 5]\n",
      "  [3 6]]]\n"
     ]
    }
   ],
   "source": [
    "# dstack derinlikle aynı olan yükseklik boyunca istifleme yapar.\n",
    "dizi1 = np.array([1,2,3])\n",
    "dizi2 = np.array([4,5,6])\n",
    "istifliDizi = np.dstack((dizi1,dizi2))\n",
    "print(istifliDizi)"
   ]
  }
 ],
 "metadata": {
  "kernelspec": {
   "display_name": "Python 3 (ipykernel)",
   "language": "python",
   "name": "python3"
  },
  "language_info": {
   "codemirror_mode": {
    "name": "ipython",
    "version": 3
   },
   "file_extension": ".py",
   "mimetype": "text/x-python",
   "name": "python",
   "nbconvert_exporter": "python",
   "pygments_lexer": "ipython3",
   "version": "3.9.6"
  }
 },
 "nbformat": 4,
 "nbformat_minor": 5
}
