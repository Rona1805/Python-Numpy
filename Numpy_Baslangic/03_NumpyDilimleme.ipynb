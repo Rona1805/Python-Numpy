{
 "cells": [
  {
   "cell_type": "markdown",
   "metadata": {},
   "source": [
    "21.01.2023"
   ]
  },
  {
   "cell_type": "code",
   "execution_count": null,
   "metadata": {
    "id": "XAqHPjPvCb9W"
   },
   "outputs": [],
   "source": [
    "import numpy as np"
   ]
  },
  {
   "cell_type": "code",
   "execution_count": null,
   "metadata": {
    "colab": {
     "base_uri": "https://localhost:8080/"
    },
    "id": "hZ4qqPZaCeRg",
    "outputId": "c88038af-c248-473f-a811-73ace3092a3f"
   },
   "outputs": [
    {
     "name": "stdout",
     "output_type": "stream",
     "text": [
      "[2 3 4 5]\n"
     ]
    }
   ],
   "source": [
    "# Aşağıdaki diziden dizin 1'den dizin 5'e öğeleri dilimleyin:\n",
    "B1 = np.array([1,2,3,4,5,6,7])\n",
    "dilimleme = B1[1:5]\n",
    "print(dilimleme)"
   ]
  },
  {
   "cell_type": "code",
   "execution_count": null,
   "metadata": {
    "colab": {
     "base_uri": "https://localhost:8080/"
    },
    "id": "CO2iPbfuC2Z4",
    "outputId": "9c025ea6-9e4f-467c-c264-1d718efad9c6"
   },
   "outputs": [
    {
     "name": "stdout",
     "output_type": "stream",
     "text": [
      "[5 6 7]\n"
     ]
    }
   ],
   "source": [
    "# Öğeleri dizin 4'ten dizinin sonuna kadar dilimleyin:\n",
    "dilimleme = B1[4:]\n",
    "print(dilimleme)"
   ]
  },
  {
   "cell_type": "code",
   "execution_count": null,
   "metadata": {
    "colab": {
     "base_uri": "https://localhost:8080/"
    },
    "id": "XstvsiWiDE1z",
    "outputId": "6b334732-9613-42d1-acd5-cad7b3985dbb"
   },
   "outputs": [
    {
     "name": "stdout",
     "output_type": "stream",
     "text": [
      "[1 2 3 4]\n"
     ]
    }
   ],
   "source": [
    "# Öğeleri başlangıçtan dizin 4'e kadar dilimleyin (dahil değildir):\n",
    "dilimleme = B1[:4]\n",
    "print(dilimleme)"
   ]
  },
  {
   "cell_type": "code",
   "execution_count": null,
   "metadata": {
    "colab": {
     "base_uri": "https://localhost:8080/"
    },
    "id": "9bcEdHr6DZf4",
    "outputId": "38e3dd26-6431-4fe0-fc17-27357d7102a5"
   },
   "outputs": [
    {
     "name": "stdout",
     "output_type": "stream",
     "text": [
      "[5, 6]\n"
     ]
    }
   ],
   "source": [
    "# Negatif dilimleme\n",
    "# Dizin 3'ten sondan dizin 1'e kadar sondan dilimleyin:\n",
    "B1 = [1,2,3,4,5,6,7]\n",
    "negatifDilim = B1[-3:-1]\n",
    "print(negatifDilim)"
   ]
  },
  {
   "cell_type": "code",
   "execution_count": null,
   "metadata": {
    "colab": {
     "base_uri": "https://localhost:8080/"
    },
    "id": "AI4Zm_uHDxFe",
    "outputId": "abf92c38-d182-4234-9998-6ac8a5145421"
   },
   "outputs": [
    {
     "name": "stdout",
     "output_type": "stream",
     "text": [
      "[2, 4]\n"
     ]
    }
   ],
   "source": [
    "# Dizin 1'den dizin 5'e diğer tüm öğeleri döndürün:\n",
    "B1 = [1,2,3,4,5,6,7]\n",
    "dilimleme = B1[1:5:2]\n",
    "print(dilimleme)"
   ]
  },
  {
   "cell_type": "code",
   "execution_count": null,
   "metadata": {
    "colab": {
     "base_uri": "https://localhost:8080/"
    },
    "id": "GTFU53vfE-tQ",
    "outputId": "4515d5d6-1bcf-49bc-fa54-8c2e34ea1b19"
   },
   "outputs": [
    {
     "name": "stdout",
     "output_type": "stream",
     "text": [
      "[1, 3, 5, 7]\n"
     ]
    }
   ],
   "source": [
    "# Tüm dizideki diğer tüm öğeleri döndürün:\n",
    "B1 = [1,2,3,4,5,6,7]\n",
    "dilimleme = B1[::2]\n",
    "print(dilimleme)"
   ]
  },
  {
   "cell_type": "code",
   "execution_count": 31,
   "metadata": {
    "colab": {
     "base_uri": "https://localhost:8080/"
    },
    "id": "wX7bq9KhFbw_",
    "outputId": "6ee50f82-f9fe-4556-de8d-34b038f23d50"
   },
   "outputs": [
    {
     "name": "stdout",
     "output_type": "stream",
     "text": [
      "[6 7 8]\n"
     ]
    }
   ],
   "source": [
    "# B2 dilimleme\n",
    "# İkinci öğeden, öğeleri dizin 1'den dizin 4'e dilimleyin (dahil değildir):\n",
    "B2 = np.array([[1,2,3,4],[5,6,7,8]])\n",
    "dilimleme = B2[1, 1:4]\n",
    "print(dilimleme)"
   ]
  },
  {
   "cell_type": "code",
   "execution_count": 34,
   "metadata": {
    "colab": {
     "base_uri": "https://localhost:8080/"
    },
    "id": "RZBZqULyaUvT",
    "outputId": "b554e50d-cdb7-4164-efa4-20fe2852dced"
   },
   "outputs": [
    {
     "name": "stdout",
     "output_type": "stream",
     "text": [
      "[3 7]\n"
     ]
    }
   ],
   "source": [
    "B2 = np.array([[1,2,3,4],[5,6,7,8]])\n",
    "dilimleme = B2[0:2, 2]\n",
    "print(dilimleme)"
   ]
  },
  {
   "cell_type": "code",
   "execution_count": 37,
   "metadata": {
    "colab": {
     "base_uri": "https://localhost:8080/"
    },
    "id": "Dg6LL5mpE7wW",
    "outputId": "f313376d-d4b0-4657-cbdd-83cb6c1ffb23"
   },
   "outputs": [
    {
     "name": "stdout",
     "output_type": "stream",
     "text": [
      "[[2]\n",
      " [6]]\n"
     ]
    }
   ],
   "source": [
    "B2 = np.array([[1,2,3,4],[5,6,7,8]])\n",
    "dilimleme = B2[0:2, 1:2]\n",
    "print(dilimleme)"
   ]
  }
 ],
 "metadata": {
  "colab": {
   "provenance": []
  },
  "kernelspec": {
   "display_name": "Python 3 (ipykernel)",
   "language": "python",
   "name": "python3"
  },
  "language_info": {
   "codemirror_mode": {
    "name": "ipython",
    "version": 3
   },
   "file_extension": ".py",
   "mimetype": "text/x-python",
   "name": "python",
   "nbconvert_exporter": "python",
   "pygments_lexer": "ipython3",
   "version": "3.9.6"
  }
 },
 "nbformat": 4,
 "nbformat_minor": 4
}
