{
 "cells": [
  {
   "cell_type": "markdown",
   "id": "863e1ed0-9749-4e7c-bf07-0ab7ffa489fe",
   "metadata": {},
   "source": [
    "26.01.2023"
   ]
  },
  {
   "cell_type": "markdown",
   "id": "ed904abf-39a4-4b75-8ee3-166ef9e06d64",
   "metadata": {},
   "source": [
    "### Numpy Dizi Bölme"
   ]
  },
  {
   "cell_type": "markdown",
   "id": "45051cca-af79-478c-b540-adab3d66eb26",
   "metadata": {},
   "source": [
    "Bölme birleştirmenin ters işlemidir.\n"
   ]
  },
  {
   "cell_type": "code",
   "execution_count": 1,
   "id": "69efeef5-92bf-464b-9fbe-a10f8bd2f113",
   "metadata": {},
   "outputs": [],
   "source": [
    "# array_split dizi bölme işlemidir."
   ]
  },
  {
   "cell_type": "code",
   "execution_count": 3,
   "id": "426368ca-484a-42c1-a257-dcab01db19f5",
   "metadata": {},
   "outputs": [],
   "source": [
    "import numpy as np"
   ]
  },
  {
   "cell_type": "code",
   "execution_count": 10,
   "id": "1199675f-0979-4e2a-b1f0-9ae58ca6e19f",
   "metadata": {},
   "outputs": [
    {
     "name": "stdout",
     "output_type": "stream",
     "text": [
      "[array([1, 2]), array([3, 4]), array([5, 6])]\n"
     ]
    }
   ],
   "source": [
    "# Diziyi 3 e bölme\n",
    "dizi = np.array([1,2,3,4,5,6])\n",
    "bolmeDizi = np.array_split(dizi,3)\n",
    "print(bolmeDizi)"
   ]
  },
  {
   "cell_type": "markdown",
   "id": "0c87e75e-f226-4c64-bc6b-908f10479e99",
   "metadata": {},
   "source": [
    "Yukarıda dönüş değeri 3 dizi içeren bir dizidir"
   ]
  },
  {
   "cell_type": "markdown",
   "id": "0299ac51-9d23-4442-aa68-b7e3979b012f",
   "metadata": {},
   "source": [
    "#### Bölünmüş diziye erişim"
   ]
  },
  {
   "cell_type": "code",
   "execution_count": 11,
   "id": "b7ed5236-27e6-4e18-aaff-1d79d66fd385",
   "metadata": {},
   "outputs": [
    {
     "name": "stdout",
     "output_type": "stream",
     "text": [
      "[array([1, 2]), array([3, 4]), array([5, 6])]\n"
     ]
    }
   ],
   "source": [
    "# Diziyi 3 e bölme\n",
    "dizi = np.array([1,2,3,4,5,6])\n",
    "bolmeDizi = np.array_split(dizi,3)\n",
    "print(bolmeDizi)"
   ]
  },
  {
   "cell_type": "code",
   "execution_count": 15,
   "id": "a4783547-4d08-4d8c-b335-7b0874319284",
   "metadata": {},
   "outputs": [
    {
     "name": "stdout",
     "output_type": "stream",
     "text": [
      "[1 2]\n",
      "[5 6]\n"
     ]
    }
   ],
   "source": [
    "print(bolmeDizi[0])\n",
    "print(bolmeDizi[2])"
   ]
  },
  {
   "cell_type": "code",
   "execution_count": 16,
   "id": "947149fc-2c6b-485a-968a-189f9db2b4ef",
   "metadata": {},
   "outputs": [
    {
     "name": "stdout",
     "output_type": "stream",
     "text": [
      "[array([[1, 2],\n",
      "       [3, 4]]), array([[5, 6],\n",
      "       [7, 8]]), array([[ 9, 10],\n",
      "       [11, 12]])]\n"
     ]
    }
   ],
   "source": [
    "# Diziyi 3 e bölme\n",
    "dizi = np.array([[1,2],[3,4],[5,6],[7,8],[9,10],[11,12]])\n",
    "bolmeDizi = np.array_split(dizi,3)\n",
    "print(bolmeDizi)"
   ]
  },
  {
   "cell_type": "code",
   "execution_count": 21,
   "id": "bb0d11f6-5fd0-4037-8835-56c0580eff24",
   "metadata": {},
   "outputs": [
    {
     "name": "stdout",
     "output_type": "stream",
     "text": [
      "[array([[ 1],\n",
      "       [ 3],\n",
      "       [ 5],\n",
      "       [ 7],\n",
      "       [ 9],\n",
      "       [11]]), array([[ 2],\n",
      "       [ 4],\n",
      "       [ 6],\n",
      "       [ 8],\n",
      "       [10],\n",
      "       [12]]), array([], shape=(6, 0), dtype=int32)]\n"
     ]
    }
   ],
   "source": [
    "# Diziyi 3 e bölme\n",
    "dizi = np.array([[1,2],[3,4],[5,6],[7,8],[9,10],[11,12]])\n",
    "bolmeDizi = np.array_split(dizi,3, axis=1)\n",
    "print(bolmeDizi)"
   ]
  },
  {
   "cell_type": "code",
   "execution_count": 32,
   "id": "bf029062-01f9-4a72-a13b-9ecc5291b8ca",
   "metadata": {},
   "outputs": [
    {
     "name": "stdout",
     "output_type": "stream",
     "text": [
      "[array([[ 1],\n",
      "       [ 4],\n",
      "       [ 7],\n",
      "       [10]]), array([[ 2],\n",
      "       [ 5],\n",
      "       [ 8],\n",
      "       [11]]), array([[ 3],\n",
      "       [ 6],\n",
      "       [ 9],\n",
      "       [12]])]\n"
     ]
    }
   ],
   "source": [
    "# Satır boyunca dizi bölme\n",
    "dizi = np.array([[1,2,3],[4,5,6],[7,8,9],[10,11,12]])\n",
    "bolmeDizi = np.hsplit(dizi,3)\n",
    "print(bolmeDizi)"
   ]
  },
  {
   "cell_type": "code",
   "execution_count": 37,
   "id": "acb1137c-e577-4ca7-86fb-82d152bf6d60",
   "metadata": {},
   "outputs": [
    {
     "name": "stdout",
     "output_type": "stream",
     "text": [
      "[array([[1, 2, 3],\n",
      "       [4, 5, 6]]), array([[ 7,  8,  9],\n",
      "       [10, 11, 12]])]\n"
     ]
    }
   ],
   "source": [
    "# Sütun boyunca dizi bölme\n",
    "dizi = np.array([[1,2,3],[4,5,6],[7,8,9],[10,11,12]])\n",
    "bolmeDizi = np.vsplit(dizi,2)\n",
    "print(bolmeDizi)"
   ]
  },
  {
   "cell_type": "code",
   "execution_count": null,
   "id": "862881f0-5e5a-4292-947d-53cab39a5dcc",
   "metadata": {},
   "outputs": [],
   "source": [
    "ne kadar yatırmam lazım\n",
    "devlet ne kadarını karşılıyor\n",
    "altına endeksli yapabiliyormuyuz\n",
    "fon hakkınızda\n",
    "bireysel emekliklik\n",
    "0850 202 20 20\n",
    "415\n",
    "124\n",
    "3 yılda 15\n",
    "6 35\n",
    "56 100 100\n",
    "toplu öeme\n",
    "fon değişiklik"
   ]
  }
 ],
 "metadata": {
  "kernelspec": {
   "display_name": "Python 3 (ipykernel)",
   "language": "python",
   "name": "python3"
  },
  "language_info": {
   "codemirror_mode": {
    "name": "ipython",
    "version": 3
   },
   "file_extension": ".py",
   "mimetype": "text/x-python",
   "name": "python",
   "nbconvert_exporter": "python",
   "pygments_lexer": "ipython3",
   "version": "3.9.6"
  }
 },
 "nbformat": 4,
 "nbformat_minor": 5
}
