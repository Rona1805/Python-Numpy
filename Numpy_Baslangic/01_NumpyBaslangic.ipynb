{
 "cells": [
  {
   "cell_type": "markdown",
   "metadata": {},
   "source": [
    "21.01.2023"
   ]
  },
  {
   "cell_type": "code",
   "execution_count": 2,
   "metadata": {
    "id": "dUR3tL2T2loV"
   },
   "outputs": [],
   "source": [
    "import numpy as np # Numpy kütüphanesini içe aktarma"
   ]
  },
  {
   "cell_type": "code",
   "execution_count": 4,
   "metadata": {},
   "outputs": [
    {
     "data": {
      "text/plain": [
       "'1.21.1'"
      ]
     },
     "execution_count": 4,
     "metadata": {},
     "output_type": "execute_result"
    }
   ],
   "source": [
    "# Versiyon sorgulama\n",
    "np.__version__"
   ]
  },
  {
   "cell_type": "code",
   "execution_count": 5,
   "metadata": {
    "colab": {
     "base_uri": "https://localhost:8080/"
    },
    "id": "Xg7GDWPp2zMW",
    "outputId": "3059f11a-1cc0-4bd1-9444-38b7146aafec"
   },
   "outputs": [
    {
     "name": "stdout",
     "output_type": "stream",
     "text": [
      "[1 2 3 4]\n",
      "<class 'numpy.ndarray'>\n"
     ]
    }
   ],
   "source": [
    "# Örnek bir dizi oluşturma \n",
    "dizi = np.array([1,2,3,4]) \n",
    "print(dizi)\n",
    "print(type(dizi))"
   ]
  },
  {
   "cell_type": "code",
   "execution_count": 6,
   "metadata": {
    "colab": {
     "base_uri": "https://localhost:8080/"
    },
    "id": "olDc93H-3LIF",
    "outputId": "8d767ee9-1b89-4920-92bf-dc5ba472c5fc"
   },
   "outputs": [
    {
     "name": "stdout",
     "output_type": "stream",
     "text": [
      "[1 2 3 4 5]\n",
      "<class 'numpy.ndarray'>\n"
     ]
    }
   ],
   "source": [
    "# Tuple ile numpy dizini oluşturma\n",
    "demet = np.array((1,2,3,4,5))\n",
    "print(demet)\n",
    "print(type(demet))"
   ]
  },
  {
   "cell_type": "code",
   "execution_count": 7,
   "metadata": {
    "colab": {
     "base_uri": "https://localhost:8080/"
    },
    "id": "76rTDm3h4W1l",
    "outputId": "9545de30-4bd6-4d88-ab2a-9d95f3d6e1dc"
   },
   "outputs": [
    {
     "name": "stdout",
     "output_type": "stream",
     "text": [
      "45 \n",
      "\n",
      "eksen boyutu:  0\n"
     ]
    }
   ],
   "source": [
    "# 0B, boyutu olmayan scalar numpy dizisi oluşturmak\n",
    "B0 = np.array(45)\n",
    "print(B0, \"\\n\")\n",
    "print(\"eksen boyutu: \", B0.ndim) # Boyut sorgulama"
   ]
  },
  {
   "cell_type": "code",
   "execution_count": 8,
   "metadata": {
    "colab": {
     "base_uri": "https://localhost:8080/"
    },
    "id": "OuhFrXQ-5lik",
    "outputId": "9e092e83-cc11-432b-844a-3ffd44930e0a"
   },
   "outputs": [
    {
     "name": "stdout",
     "output_type": "stream",
     "text": [
      "[45 50 60] \n",
      "\n",
      "eksen boyutu:  1\n"
     ]
    }
   ],
   "source": [
    "# 1B tek boyutlu(eksenli) vektör oluşturmak\n",
    "B1 = np.array([45,50,60])\n",
    "print(B1, \"\\n\")\n",
    "print(\"eksen boyutu: \", B1.ndim) # Boyut sorgulama"
   ]
  },
  {
   "cell_type": "code",
   "execution_count": 9,
   "metadata": {
    "colab": {
     "base_uri": "https://localhost:8080/"
    },
    "id": "BYKChOZN411S",
    "outputId": "c5403d95-69c5-4e00-92da-a248bbb047f5"
   },
   "outputs": [
    {
     "name": "stdout",
     "output_type": "stream",
     "text": [
      "[[ 1  2  3  4  5]\n",
      " [ 6  7  8  9 10]] \n",
      "\n",
      "eksen boyutu:  2\n"
     ]
    }
   ],
   "source": [
    "# 2B iki boyutlu(eksenli) tensör oluşturmak\n",
    "B2 = np.array([[1,2,3,4,5],[6,7,8,9,10]])\n",
    "print(B2, \"\\n\")\n",
    "print(\"eksen boyutu: \", B2.ndim) # Boyut sorgulama"
   ]
  },
  {
   "cell_type": "code",
   "execution_count": 10,
   "metadata": {
    "colab": {
     "base_uri": "https://localhost:8080/"
    },
    "id": "lyQW6uTT6Gst",
    "outputId": "8e1efa33-7a85-4365-8cf7-845ad4f11d85"
   },
   "outputs": [
    {
     "name": "stdout",
     "output_type": "stream",
     "text": [
      "[[[1 2 3]\n",
      "  [4 5 6]\n",
      "  [7 8 9]]] \n",
      "\n",
      "eksen boyutu:  3\n"
     ]
    }
   ],
   "source": [
    "# 3B üç boyutlu(eksenli) tensör oluşturmak\n",
    "B3 = np.array([[[1,2,3],[4,5,6],[7,8,9]]])\n",
    "print(B3, \"\\n\")\n",
    "print(\"eksen boyutu: \", B3.ndim) # Boyut sorgulama"
   ]
  },
  {
   "cell_type": "code",
   "execution_count": 11,
   "metadata": {
    "colab": {
     "base_uri": "https://localhost:8080/"
    },
    "id": "dkjOUdH66V2f",
    "outputId": "004173a5-39dc-42f7-dac8-6a4f067157b4"
   },
   "outputs": [
    {
     "name": "stdout",
     "output_type": "stream",
     "text": [
      "[[[[[1 2 3 4]]]]] \n",
      "\n",
      "eksen boyutu:  5\n"
     ]
    }
   ],
   "source": [
    "# Dizi boyutu belirleyerek oluşturmak \n",
    "dizi = np.array([1,2,3,4], ndmin = 5)\n",
    "print(dizi, \"\\n\")\n",
    "print(\"eksen boyutu: \", dizi.ndim)"
   ]
  },
  {
   "cell_type": "code",
   "execution_count": 12,
   "metadata": {
    "colab": {
     "base_uri": "https://localhost:8080/"
    },
    "id": "Wod5TurM8G0e",
    "outputId": "ce0d20af-8f8f-401b-9646-03de674c9ef2"
   },
   "outputs": [
    {
     "name": "stdout",
     "output_type": "stream",
     "text": [
      "[45 50 60] \n",
      "\n",
      "erişilen indeks:  45\n"
     ]
    }
   ],
   "source": [
    "# 1B Dizilere erişim\n",
    "B1 = np.array([45,50,60])\n",
    "print(B1, \"\\n\")\n",
    "print(\"erişilen indeks: \", B1[0])"
   ]
  },
  {
   "cell_type": "code",
   "execution_count": 13,
   "metadata": {
    "colab": {
     "base_uri": "https://localhost:8080/"
    },
    "id": "egGEOV5K92sv",
    "outputId": "494e6cb9-2f8d-4af3-e805-acb384aff1d2"
   },
   "outputs": [
    {
     "name": "stdout",
     "output_type": "stream",
     "text": [
      "[45 50 60] \n",
      "\n",
      "erişilen indeks:  60\n"
     ]
    }
   ],
   "source": [
    "B1 = np.array([45,50,60])\n",
    "print(B1, \"\\n\")\n",
    "print(\"erişilen indeks: \", B1[2])"
   ]
  },
  {
   "cell_type": "code",
   "execution_count": 14,
   "metadata": {
    "colab": {
     "base_uri": "https://localhost:8080/"
    },
    "id": "zinVzBw79qm1",
    "outputId": "319e8c86-66af-48ec-9b18-85d5cbaaf558"
   },
   "outputs": [
    {
     "name": "stdout",
     "output_type": "stream",
     "text": [
      "[45 50 60] \n",
      "\n",
      "indeks toplamları:  105\n"
     ]
    }
   ],
   "source": [
    "B1 = np.array([45,50,60])\n",
    "print(B1, \"\\n\")\n",
    "print(\"indeks toplamları: \", B1[0] + B1[2])"
   ]
  },
  {
   "cell_type": "code",
   "execution_count": 15,
   "metadata": {
    "colab": {
     "base_uri": "https://localhost:8080/"
    },
    "id": "_nxUIFa29Us3",
    "outputId": "e5fe5b91-ac2f-4ee6-b2e8-dbc74b37bbd8"
   },
   "outputs": [
    {
     "name": "stdout",
     "output_type": "stream",
     "text": [
      "[[ 1  2  3  4  5]\n",
      " [ 6  7  8  9 10]] \n",
      "\n",
      "2.eleman 1.satıra erişim:  2\n"
     ]
    }
   ],
   "source": [
    "# 2B dizilere erişim\n",
    "B2 = np.array([[1,2,3,4,5],[6,7,8,9,10]])\n",
    "print(B2, \"\\n\")\n",
    "print(\"2.eleman 1.satıra erişim: \", B2[0,1])"
   ]
  },
  {
   "cell_type": "code",
   "execution_count": 16,
   "metadata": {
    "colab": {
     "base_uri": "https://localhost:8080/"
    },
    "id": "UMfp6e4F9PsI",
    "outputId": "30a2a637-d2cb-4284-c95f-6884857164a3"
   },
   "outputs": [
    {
     "name": "stdout",
     "output_type": "stream",
     "text": [
      "[[ 1  2  3  4  5]\n",
      " [ 6  7  8  9 10]] \n",
      "\n",
      "5.eleman 2.satıra erişim:  10\n"
     ]
    }
   ],
   "source": [
    "# 2B dizilere erişim\n",
    "B2 = np.array([[1,2,3,4,5],[6,7,8,9,10]])\n",
    "print(B2, \"\\n\")\n",
    "print(\"5.eleman 2.satıra erişim: \", B2[1,4])"
   ]
  },
  {
   "cell_type": "code",
   "execution_count": 17,
   "metadata": {
    "colab": {
     "base_uri": "https://localhost:8080/"
    },
    "id": "1QyOlxOJ-fDu",
    "outputId": "5dcb4568-8565-46e9-f9c4-b8dd33d51de9"
   },
   "outputs": [
    {
     "name": "stdout",
     "output_type": "stream",
     "text": [
      "[[ 1  2  3  4  5]\n",
      " [ 6  7  8  9 10]] \n",
      "\n",
      "1.satır 3.elemanı ile 2.satır 1.elemanı ile toplamları:  9\n"
     ]
    }
   ],
   "source": [
    "B2 = np.array([[1,2,3,4,5],[6,7,8,9,10]])\n",
    "print(B2, \"\\n\")\n",
    "print(\"1.satır 3.elemanı ile 2.satır 1.elemanı ile toplamları: \", B2[0,2] + B2[1,0])"
   ]
  },
  {
   "cell_type": "code",
   "execution_count": 18,
   "metadata": {
    "colab": {
     "base_uri": "https://localhost:8080/"
    },
    "id": "ByCbIsv4-5ic",
    "outputId": "d7fcbe9c-e048-43af-8ca6-2d207f405ea3"
   },
   "outputs": [
    {
     "name": "stdout",
     "output_type": "stream",
     "text": [
      "[[[1 2 3]\n",
      "  [4 5 6]\n",
      "  [7 8 9]]] \n",
      "\n",
      "1.satır elemanlarına erişim:  [1 2 3]\n"
     ]
    }
   ],
   "source": [
    "# 3B üç boyutlu(eksenli) diziye erişim\n",
    "B3 = np.array([[[1,2,3],[4,5,6],[7,8,9]]])\n",
    "print(B3, \"\\n\")\n",
    "print(\"1.satır elemanlarına erişim: \", B3[0,0])"
   ]
  },
  {
   "cell_type": "code",
   "execution_count": 19,
   "metadata": {
    "colab": {
     "base_uri": "https://localhost:8080/"
    },
    "id": "Gy8Hi-o0BFjC",
    "outputId": "cd6c17ac-d106-470b-8599-9d84e68d98ed"
   },
   "outputs": [
    {
     "name": "stdout",
     "output_type": "stream",
     "text": [
      "[[[1 2 3]\n",
      "  [4 5 6]\n",
      "  [7 8 9]]] \n",
      "\n",
      "2.satır elemanlarına erişim:  [4 5 6]\n"
     ]
    }
   ],
   "source": [
    "B3 = np.array([[[1,2,3],[4,5,6],[7,8,9]]])\n",
    "print(B3, \"\\n\")\n",
    "print(\"2.satır elemanlarına erişim: \", B3[0,1])"
   ]
  },
  {
   "cell_type": "code",
   "execution_count": 20,
   "metadata": {
    "colab": {
     "base_uri": "https://localhost:8080/"
    },
    "id": "aRFjNwiUBJrC",
    "outputId": "438ce79d-c23e-41e6-a06e-0889c6f92cf5"
   },
   "outputs": [
    {
     "name": "stdout",
     "output_type": "stream",
     "text": [
      "[[[ 1  2  3]\n",
      "  [ 4  5  6]]\n",
      "\n",
      " [[ 7  8  9]\n",
      "  [10 11 12]]] \n",
      "\n",
      "1.satır elemanlarına erişim:  [[1 2 3]\n",
      " [4 5 6]]\n"
     ]
    }
   ],
   "source": [
    "B3 = np.array([[[1,2,3],[4,5,6]],[[7,8,9],[10,11,12]]])\n",
    "print(B3, \"\\n\")\n",
    "print(\"1.satır elemanlarına erişim: \", B3[0])"
   ]
  },
  {
   "cell_type": "code",
   "execution_count": 21,
   "metadata": {
    "colab": {
     "base_uri": "https://localhost:8080/"
    },
    "id": "nlbGugOzBgiG",
    "outputId": "251b68e7-c9ee-4248-c8e1-df9e0f4b65e0"
   },
   "outputs": [
    {
     "name": "stdout",
     "output_type": "stream",
     "text": [
      "[[ 1  2  3  4  5]\n",
      " [ 6  7  8  9 10]] \n",
      "\n",
      "erişilen indeks:  5\n"
     ]
    }
   ],
   "source": [
    "# Negatif indeksleme\n",
    "B2 = np.array([[1,2,3,4,5],[6,7,8,9,10]])\n",
    "print(B2, \"\\n\")\n",
    "print(\"erişilen indeks: \", B2[0,-1])"
   ]
  },
  {
   "cell_type": "code",
   "execution_count": 22,
   "metadata": {
    "colab": {
     "base_uri": "https://localhost:8080/"
    },
    "id": "4shxL3Y6B3j2",
    "outputId": "8ae773b5-60de-47d8-f223-48376afe74fd"
   },
   "outputs": [
    {
     "name": "stdout",
     "output_type": "stream",
     "text": [
      "[[1 2 3 4 5]] \n",
      "\n",
      "erişilen indeks:  4\n"
     ]
    }
   ],
   "source": [
    "# Negatif indeksleme\n",
    "B1 = np.array([[1,2,3,4,5]])\n",
    "print(B1, \"\\n\")\n",
    "print(\"erişilen indeks: \", B1[0,-2])"
   ]
  }
 ],
 "metadata": {
  "colab": {
   "provenance": []
  },
  "kernelspec": {
   "display_name": "Python 3 (ipykernel)",
   "language": "python",
   "name": "python3"
  },
  "language_info": {
   "codemirror_mode": {
    "name": "ipython",
    "version": 3
   },
   "file_extension": ".py",
   "mimetype": "text/x-python",
   "name": "python",
   "nbconvert_exporter": "python",
   "pygments_lexer": "ipython3",
   "version": "3.9.6"
  }
 },
 "nbformat": 4,
 "nbformat_minor": 4
}
