{
 "cells": [
  {
   "cell_type": "markdown",
   "id": "359ce9b9-c107-49ea-a0a7-4958d7350efc",
   "metadata": {},
   "source": [
    "26.01.2023"
   ]
  },
  {
   "cell_type": "markdown",
   "id": "e947f6a0-a063-4d60-997d-798ea9cebd95",
   "metadata": {},
   "source": [
    "#### Reshape"
   ]
  },
  {
   "cell_type": "code",
   "execution_count": 6,
   "id": "e5f3bd80-5aa3-48cc-9e5d-b6da5a254a18",
   "metadata": {},
   "outputs": [],
   "source": [
    "# Dizi özniteliklerini yeniden boyutlandırma yapar. Shape\n",
    "# Satır * Sütun\n",
    "# Yeniden boyutlandırma yaparken dizinin eleman sayısına göre yapılır. Aksi takdirde hata verir."
   ]
  },
  {
   "cell_type": "code",
   "execution_count": 7,
   "id": "b499d72d-754b-4441-8640-b8ffbd0c1bfa",
   "metadata": {},
   "outputs": [],
   "source": [
    "import numpy as np"
   ]
  },
  {
   "cell_type": "code",
   "execution_count": 32,
   "id": "62357133-2e9a-4127-aa9b-370037c0e90b",
   "metadata": {},
   "outputs": [
    {
     "name": "stdout",
     "output_type": "stream",
     "text": [
      "Eski dizi boyutu: (6,) \n",
      "\n",
      "[[1 2 3]\n",
      " [4 5 6]] \n",
      "\n",
      "Yeni dizi boyutu: (2, 3) \n",
      "\n"
     ]
    }
   ],
   "source": [
    "# 1B den 2B ye yeniden şekillendirme\n",
    "dizi = np.array([1,2,3,4,5,6])\n",
    "yeniDizi = dizi.reshape(2,3)\n",
    "print(f\"Eski dizi boyutu: {dizi.shape}\",\"\\n\")\n",
    "print(f\"{yeniDizi}\",\"\\n\")\n",
    "print(f\"Yeni dizi boyutu: {yeniDizi.shape}\",\"\\n\")"
   ]
  },
  {
   "cell_type": "code",
   "execution_count": 33,
   "id": "c73cf914-ba68-4f41-87b3-852cc5477588",
   "metadata": {},
   "outputs": [
    {
     "name": "stdout",
     "output_type": "stream",
     "text": [
      "Eski dizi boyutu: (12,) \n",
      "\n",
      "[[ 1  2  3]\n",
      " [ 4  5  6]\n",
      " [ 7  8  9]\n",
      " [10 11 12]] \n",
      "\n",
      "Yeni dizi boyutu: (4, 3) \n",
      "\n"
     ]
    }
   ],
   "source": [
    "# 1B den 2B ye yeniden şekillendirme\n",
    "dizi2 = np.array([1,2,3,4,5,6,7,8,9,10,11,12])\n",
    "yeniDizi2 = dizi2.reshape(4,3)\n",
    "print(f\"Eski dizi boyutu: {dizi2.shape}\",\"\\n\")\n",
    "print(f\"{yeniDizi2}\",\"\\n\")\n",
    "print(f\"Yeni dizi boyutu: {yeniDizi2.shape}\",\"\\n\")"
   ]
  },
  {
   "cell_type": "code",
   "execution_count": 34,
   "id": "0354c271-ca2e-44c7-beaf-6979a9fa4e28",
   "metadata": {},
   "outputs": [
    {
     "name": "stdout",
     "output_type": "stream",
     "text": [
      "Eski dizi boyutu: (12,) \n",
      "\n",
      "[[[ 1  2]\n",
      "  [ 3  4]\n",
      "  [ 5  6]]\n",
      "\n",
      " [[ 7  8]\n",
      "  [ 9 10]\n",
      "  [11 12]]] \n",
      "\n",
      "Yeni dizi boyutu: (2, 3, 2) \n",
      "\n"
     ]
    }
   ],
   "source": [
    "# 1B den 3B ye yeniden şekillendirme\n",
    "dizi3 = np.array([1,2,3,4,5,6,7,8,9,10,11,12])\n",
    "yeniDizi3 = dizi3.reshape(2,3,2)\n",
    "print(f\"Eski dizi boyutu: {dizi3.shape}\",\"\\n\")\n",
    "print(f\"{yeniDizi3}\",\"\\n\")\n",
    "print(f\"Yeni dizi boyutu: {yeniDizi3.shape}\",\"\\n\")"
   ]
  },
  {
   "cell_type": "code",
   "execution_count": 35,
   "id": "50c27393-f960-44d8-aebe-b5a00c936aec",
   "metadata": {},
   "outputs": [
    {
     "name": "stdout",
     "output_type": "stream",
     "text": [
      "Eski dizi boyutu: (12,) \n",
      "\n",
      "[[[ 1  2]\n",
      "  [ 3  4]]\n",
      "\n",
      " [[ 5  6]\n",
      "  [ 7  8]]\n",
      "\n",
      " [[ 9 10]\n",
      "  [11 12]]] \n",
      "\n",
      "Yeni dizi boyutu: (3, 2, 2) \n",
      "\n"
     ]
    }
   ],
   "source": [
    "# 1B den 3B ye yeniden şekillendirme\n",
    "dizi3 = np.array([1,2,3,4,5,6,7,8,9,10,11,12])\n",
    "yeniDizi3 = dizi3.reshape(3,2,2)\n",
    "print(f\"Eski dizi boyutu: {dizi3.shape}\",\"\\n\")\n",
    "print(f\"{yeniDizi3}\",\"\\n\")\n",
    "print(f\"Yeni dizi boyutu: {yeniDizi3.shape}\",\"\\n\")"
   ]
  },
  {
   "cell_type": "code",
   "execution_count": 36,
   "id": "e5067752-0955-4cdc-b5b0-0c8f00ddc993",
   "metadata": {},
   "outputs": [
    {
     "name": "stdout",
     "output_type": "stream",
     "text": [
      "Eski dizi boyutu: (12,) \n",
      "\n",
      "[[[ 1]\n",
      "  [ 2]\n",
      "  [ 3]]\n",
      "\n",
      " [[ 4]\n",
      "  [ 5]\n",
      "  [ 6]]\n",
      "\n",
      " [[ 7]\n",
      "  [ 8]\n",
      "  [ 9]]\n",
      "\n",
      " [[10]\n",
      "  [11]\n",
      "  [12]]] \n",
      "\n",
      "Yeni dizi boyutu: (4, 3, 1) \n",
      "\n"
     ]
    }
   ],
   "source": [
    "# 1B den 3B ye yeniden şekillendirme\n",
    "dizi3 = np.array([1,2,3,4,5,6,7,8,9,10,11,12])\n",
    "yeniDizi3 = dizi3.reshape(4,3,1)\n",
    "print(f\"Eski dizi boyutu: {dizi3.shape}\",\"\\n\")\n",
    "print(f\"{yeniDizi3}\",\"\\n\")\n",
    "print(f\"Yeni dizi boyutu: {yeniDizi3.shape}\",\"\\n\")"
   ]
  },
  {
   "cell_type": "markdown",
   "id": "cb1199a9-e03c-40c7-9edb-3e9b0f2e06b6",
   "metadata": {},
   "source": [
    "#### Kopyalama ve Görünümü döndürür mü?"
   ]
  },
  {
   "cell_type": "code",
   "execution_count": 41,
   "id": "a383b9eb-8f39-43dc-8908-d176c30aa60c",
   "metadata": {},
   "outputs": [
    {
     "name": "stdout",
     "output_type": "stream",
     "text": [
      "[ 1  2  3  4  5  6  7  8  9 10 11 12]\n"
     ]
    }
   ],
   "source": [
    "# Kopyalama mı yoksa Görünüm mü?\n",
    "dizi = np.array([1,2,3,4,5,6,7,8,9,10,11,12])\n",
    "yeniDizi = dizi.reshape(4,3).base\n",
    "print(yeniDizi)"
   ]
  },
  {
   "cell_type": "markdown",
   "id": "b72c5654-a6c6-49e7-ba6b-f3b90da3121b",
   "metadata": {},
   "source": [
    "Yukarıdaki örnek orijinal diziyi döndürür, bu nedenle bu bir görünümdür."
   ]
  },
  {
   "cell_type": "markdown",
   "id": "bde7ccb1-bbdf-4e3d-9275-22e8cec62f3f",
   "metadata": {},
   "source": [
    "#### Dizi düzleştirme\n"
   ]
  },
  {
   "cell_type": "code",
   "execution_count": 51,
   "id": "2b7a7655-4fad-4a38-85bc-92f89d253650",
   "metadata": {},
   "outputs": [],
   "source": [
    "# Çok boyutlu bir diziyi 1B ye dönüştürme: -1"
   ]
  },
  {
   "cell_type": "code",
   "execution_count": null,
   "id": "48a61de3-f924-414a-9391-2d024e139712",
   "metadata": {},
   "outputs": [],
   "source": []
  },
  {
   "cell_type": "code",
   "execution_count": 49,
   "id": "b46c09f6-f86c-4ab6-bb0a-c5c5e7632aef",
   "metadata": {},
   "outputs": [
    {
     "name": "stdout",
     "output_type": "stream",
     "text": [
      "[[1 2 3]\n",
      " [4 5 6]]\n",
      "Eski dizi boyutu: (2, 3) \n",
      "\n",
      "[1 2 3 4 5 6]\n",
      "Yeni dizi boyutu: (6,) \n",
      "\n"
     ]
    }
   ],
   "source": [
    "# 2B diziyi 1B ye indirgeme\n",
    "dizi2B = np.array([[1,2,3],[4,5,6]])\n",
    "duzDizi = dizi2B.reshape(-1)\n",
    "print(f\"{dizi2B}\")\n",
    "print(f\"Eski dizi boyutu: {dizi2B.shape}\",\"\\n\")\n",
    "print(f\"{duzDizi}\",)\n",
    "print(f\"Yeni dizi boyutu: {duzDizi.shape}\",\"\\n\")"
   ]
  },
  {
   "cell_type": "markdown",
   "id": "af189130-62cf-4fa5-bbe6-2cd9a074e531",
   "metadata": {},
   "source": [
    "#### Bilinmeyen Boyut"
   ]
  },
  {
   "cell_type": "markdown",
   "id": "6df3ca8c-e1f3-47b2-b97a-db7ec8d3f9cd",
   "metadata": {},
   "source": [
    "Tek bir \"bilinmeyen\" boyuta sahip olmanıza izin verilir.\n",
    "\n",
    "Bu, aşağıdakilerden biri için tam bir sayı belirtmeniz gerekmediği anlamına gelir. Yeniden şekillendirme yönteminde boyutlar."
   ]
  },
  {
   "cell_type": "code",
   "execution_count": 57,
   "id": "6d846e11-aa1a-4a6a-9059-ab17d8b5f31b",
   "metadata": {},
   "outputs": [
    {
     "name": "stdout",
     "output_type": "stream",
     "text": [
      "[[[1 2]\n",
      "  [3 4]]\n",
      "\n",
      " [[5 6]\n",
      "  [7 8]]]\n"
     ]
    }
   ],
   "source": [
    "dizi = np.array([1,2,3,4,5,6,7,8])\n",
    "yeniDizi = dizi.reshape(2,2,-1)\n",
    "print(yeniDizi)"
   ]
  }
 ],
 "metadata": {
  "kernelspec": {
   "display_name": "Python 3 (ipykernel)",
   "language": "python",
   "name": "python3"
  },
  "language_info": {
   "codemirror_mode": {
    "name": "ipython",
    "version": 3
   },
   "file_extension": ".py",
   "mimetype": "text/x-python",
   "name": "python",
   "nbconvert_exporter": "python",
   "pygments_lexer": "ipython3",
   "version": "3.9.6"
  }
 },
 "nbformat": 4,
 "nbformat_minor": 5
}
