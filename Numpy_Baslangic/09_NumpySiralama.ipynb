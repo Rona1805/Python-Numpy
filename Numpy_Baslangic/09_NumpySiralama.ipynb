{
 "cells": [
  {
   "cell_type": "markdown",
   "id": "26279e2e-2861-4cd2-bc9b-d3b1615ec97d",
   "metadata": {},
   "source": [
    "26.01.2023"
   ]
  },
  {
   "cell_type": "markdown",
   "id": "fa288049-4040-4eed-959b-0cd780f28097",
   "metadata": {},
   "source": [
    "#### Numpy Sıralama"
   ]
  },
  {
   "cell_type": "markdown",
   "id": "92c36e3b-3121-4158-b46a-6888ef0b469e",
   "metadata": {},
   "source": [
    "Dizilerde sıralama yapar."
   ]
  },
  {
   "cell_type": "code",
   "execution_count": 1,
   "id": "ba366df2-cb94-42d9-8433-4d3a540004f2",
   "metadata": {},
   "outputs": [],
   "source": [
    "import numpy as np"
   ]
  },
  {
   "cell_type": "code",
   "execution_count": 4,
   "id": "93020a0a-71ac-4806-bfce-0ae79431ca3d",
   "metadata": {},
   "outputs": [
    {
     "name": "stdout",
     "output_type": "stream",
     "text": [
      "[1 2 3 4 5]\n"
     ]
    }
   ],
   "source": [
    "dizi = np.array([1,4,2,3,5])\n",
    "siraliDizi = np.sort(dizi)\n",
    "print(siraliDizi)"
   ]
  },
  {
   "cell_type": "code",
   "execution_count": 5,
   "id": "2765a7f1-a537-4904-88a1-29b77b8971b1",
   "metadata": {},
   "outputs": [
    {
     "name": "stdout",
     "output_type": "stream",
     "text": [
      "['Armut' 'Elma' 'Kiraz' 'Muz']\n"
     ]
    }
   ],
   "source": [
    "meyveDizisi = np.array([\"Elma\",\"Armut\",\"Muz\",\"Kiraz\"])\n",
    "siraliMeyveDizisi = np.sort(meyveDizisi)\n",
    "print(siraliMeyveDizisi)"
   ]
  },
  {
   "cell_type": "code",
   "execution_count": 6,
   "id": "f5d1897c-15c4-40e2-907b-ec9064cb6354",
   "metadata": {},
   "outputs": [
    {
     "name": "stdout",
     "output_type": "stream",
     "text": [
      "[False False  True  True  True]\n"
     ]
    }
   ],
   "source": [
    "boolDizisi = np.array([True,False,False,True,True])\n",
    "siraliBoolDizisi = np.sort(boolDizisi)\n",
    "print(siraliBoolDizisi)"
   ]
  },
  {
   "cell_type": "code",
   "execution_count": 8,
   "id": "a49389f4-ee7c-4e04-b255-fe7b45f21635",
   "metadata": {},
   "outputs": [
    {
     "name": "stdout",
     "output_type": "stream",
     "text": [
      "[[1 3 5]\n",
      " [2 4 8]]\n"
     ]
    }
   ],
   "source": [
    "dizi2B = np.array([[1,5,3],[8,4,2]])\n",
    "siraliDizi2B = np.sort(dizi2B)\n",
    "print(siraliDizi2B)"
   ]
  },
  {
   "cell_type": "code",
   "execution_count": null,
   "id": "0b3d99f7-d132-447c-83e4-fa5319544ef8",
   "metadata": {},
   "outputs": [],
   "source": []
  }
 ],
 "metadata": {
  "kernelspec": {
   "display_name": "Python 3 (ipykernel)",
   "language": "python",
   "name": "python3"
  },
  "language_info": {
   "codemirror_mode": {
    "name": "ipython",
    "version": 3
   },
   "file_extension": ".py",
   "mimetype": "text/x-python",
   "name": "python",
   "nbconvert_exporter": "python",
   "pygments_lexer": "ipython3",
   "version": "3.9.6"
  }
 },
 "nbformat": 4,
 "nbformat_minor": 5
}
