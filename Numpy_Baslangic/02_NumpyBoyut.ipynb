{
 "cells": [
  {
   "cell_type": "markdown",
   "id": "74b0a23d-450f-430a-a823-a41428e2734c",
   "metadata": {},
   "source": [
    "26.01.2023"
   ]
  },
  {
   "cell_type": "markdown",
   "id": "0eba9341-e908-45ef-943a-9a30a7f0ae5d",
   "metadata": {
    "tags": []
   },
   "source": [
    "#### Shape"
   ]
  },
  {
   "cell_type": "code",
   "execution_count": 5,
   "id": "316fd3cd-7cdd-4a11-90ec-7cf5eb758dd5",
   "metadata": {},
   "outputs": [],
   "source": [
    "# ndim metodu dizinin boyutunu verirken \n",
    "# shape metodu ise Tuple şeklinde dizinin özniteliklerini verir."
   ]
  },
  {
   "cell_type": "code",
   "execution_count": 6,
   "id": "70c48531-3a5a-42a4-bd0b-a7f46b1b2400",
   "metadata": {},
   "outputs": [],
   "source": [
    "import numpy as np"
   ]
  },
  {
   "cell_type": "code",
   "execution_count": 15,
   "id": "8c84ea5f-bf67-4a62-9f0d-061be564ded0",
   "metadata": {},
   "outputs": [
    {
     "name": "stdout",
     "output_type": "stream",
     "text": [
      "dizinin boyutu: ()\n"
     ]
    }
   ],
   "source": [
    "# Skalar bir dizi oluşturma\n",
    "skalarDizi = np.array(42)\n",
    "print(f\"dizinin boyutu: {skalarDizi.shape}\")"
   ]
  },
  {
   "cell_type": "code",
   "execution_count": 16,
   "id": "1ce571c8-cc1a-4bfa-91e6-d760a17eb153",
   "metadata": {},
   "outputs": [
    {
     "name": "stdout",
     "output_type": "stream",
     "text": [
      "dizinin boyutu: (5,)\n"
     ]
    }
   ],
   "source": [
    "# 1B dizi oluşturma\n",
    "dizi1B = np.array([1,2,3,4,5])\n",
    "print(f\"dizinin boyutu: {dizi1B.shape}\")"
   ]
  },
  {
   "cell_type": "code",
   "execution_count": 12,
   "id": "961221b9-08fb-4f3d-8015-708806384d37",
   "metadata": {},
   "outputs": [
    {
     "name": "stdout",
     "output_type": "stream",
     "text": [
      "dizinin boyutu: (2, 3)\n"
     ]
    }
   ],
   "source": [
    "# 2B dizi oluşturma \n",
    "dizi2B = np.array([[1,2,3],\n",
    "                   [4,5,6]])\n",
    "print(f\"dizinin boyutu: {dizi2B.shape}\")\n"
   ]
  },
  {
   "cell_type": "code",
   "execution_count": 14,
   "id": "1845b3fe-0dde-4b03-b66e-4061f38af18e",
   "metadata": {},
   "outputs": [
    {
     "name": "stdout",
     "output_type": "stream",
     "text": [
      "dizinin boyutu: (3, 3)\n"
     ]
    }
   ],
   "source": [
    "# 3B dizi oluşturma\n",
    "dizi3B = np.array([[1,2,3],\n",
    "                   [4,5,6],\n",
    "                   [7,8,9]])\n",
    "print(f\"dizinin boyutu: {dizi3B.shape}\")"
   ]
  },
  {
   "cell_type": "code",
   "execution_count": 22,
   "id": "05f1cb33-2a46-4f02-963c-86266b96b47e",
   "metadata": {},
   "outputs": [
    {
     "name": "stdout",
     "output_type": "stream",
     "text": [
      "dizinin boyutu: (1, 1, 1, 2, 3)\n"
     ]
    }
   ],
   "source": [
    "# ndmin fonksiyonu ile dizinin boyutunu öğrenme\n",
    "dizi = np.array([[1,2,3],[4,5,6]], ndmin = 5)\n",
    "print(f\"dizinin boyutu: {dizi.shape}\")"
   ]
  }
 ],
 "metadata": {
  "kernelspec": {
   "display_name": "Python 3 (ipykernel)",
   "language": "python",
   "name": "python3"
  },
  "language_info": {
   "codemirror_mode": {
    "name": "ipython",
    "version": 3
   },
   "file_extension": ".py",
   "mimetype": "text/x-python",
   "name": "python",
   "nbconvert_exporter": "python",
   "pygments_lexer": "ipython3",
   "version": "3.9.6"
  }
 },
 "nbformat": 4,
 "nbformat_minor": 5
}
