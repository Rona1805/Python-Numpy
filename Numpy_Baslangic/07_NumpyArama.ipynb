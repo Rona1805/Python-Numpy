{
 "cells": [
  {
   "cell_type": "markdown",
   "id": "5fe2d1e0-2f65-4978-8cee-64517e662820",
   "metadata": {},
   "source": [
    "26.01.2023"
   ]
  },
  {
   "cell_type": "markdown",
   "id": "ffb286a4-16b6-404d-a430-c46fa8a45bae",
   "metadata": {},
   "source": [
    "#### Numpy arama"
   ]
  },
  {
   "cell_type": "markdown",
   "id": "3ea101bd-c45a-4b13-9314-25bd40756af0",
   "metadata": {},
   "source": [
    "Bir dizide belirlenen değeri arayabilir veya eşleşen dizinleri döndürebilir."
   ]
  },
  {
   "cell_type": "code",
   "execution_count": 1,
   "id": "efebbc0e-27bd-4525-b4c4-333a4a0f9531",
   "metadata": {},
   "outputs": [],
   "source": [
    "import numpy as np"
   ]
  },
  {
   "cell_type": "code",
   "execution_count": 3,
   "id": "813d917d-4946-4bdd-84ba-f4a18d76e590",
   "metadata": {},
   "outputs": [
    {
     "name": "stdout",
     "output_type": "stream",
     "text": [
      "(array([3, 4, 7], dtype=int64),)\n"
     ]
    }
   ],
   "source": [
    "dizi = np.array([1,2,3,4,4,5,6,4])\n",
    "arama = np.where(dizi==4)\n",
    "print(arama)"
   ]
  },
  {
   "cell_type": "code",
   "execution_count": 4,
   "id": "9acc8fac-efdf-43b2-89aa-1d7752424937",
   "metadata": {},
   "outputs": [
    {
     "name": "stdout",
     "output_type": "stream",
     "text": [
      "(array([1, 3, 4, 6, 7], dtype=int64),)\n"
     ]
    }
   ],
   "source": [
    "dizi = np.array([1,2,3,4,4,5,6,4])\n",
    "arama = np.where(dizi%2==0)\n",
    "print(arama)"
   ]
  },
  {
   "cell_type": "code",
   "execution_count": 5,
   "id": "974c192b-3852-4b1e-a82b-14a2a6791def",
   "metadata": {},
   "outputs": [
    {
     "name": "stdout",
     "output_type": "stream",
     "text": [
      "(array([0, 2, 5], dtype=int64),)\n"
     ]
    }
   ],
   "source": [
    "dizi = np.array([1,2,3,4,4,5,6,4])\n",
    "arama = np.where(dizi%2==1)\n",
    "print(arama)"
   ]
  },
  {
   "cell_type": "markdown",
   "id": "b9718dfd-dda4-46ae-a7cb-94a7bed5ae9f",
   "metadata": {},
   "source": [
    "#### Numpy Sıralanmış Arama"
   ]
  },
  {
   "cell_type": "code",
   "execution_count": 19,
   "id": "76d82f7a-a196-4787-a5d2-0cd80ae6d3ad",
   "metadata": {},
   "outputs": [],
   "source": [
    "import numpy as np"
   ]
  },
  {
   "cell_type": "markdown",
   "id": "6aadd396-2ff1-4a90-8638-17db56258338",
   "metadata": {},
   "source": [
    "Dizide ikili arama yapan bir yöntem vardır, ve belirtilen değerin ekleneceği dizini döndürür. \n"
   ]
  },
  {
   "cell_type": "code",
   "execution_count": 27,
   "id": "109cc765-396b-4fed-a5f1-cfd8f0ba23ea",
   "metadata": {},
   "outputs": [
    {
     "data": {
      "text/plain": [
       "2"
      ]
     },
     "execution_count": 27,
     "metadata": {},
     "output_type": "execute_result"
    }
   ],
   "source": [
    "# searchsorted dizide ikili arama yaptıktan sonra ekleneceği dizini döndürür\n",
    "dizi = np.array([1,2,3,4,5])\n",
    "siraliDizi = np.searchsorted(dizi,3)\n",
    "siraliDizi"
   ]
  },
  {
   "cell_type": "code",
   "execution_count": 28,
   "id": "7ec07e45-cc88-4f53-98dc-5d4a529930f9",
   "metadata": {},
   "outputs": [
    {
     "data": {
      "text/plain": [
       "3"
      ]
     },
     "execution_count": 28,
     "metadata": {},
     "output_type": "execute_result"
    }
   ],
   "source": [
    "dizi = np.array([1,2,3,4,5])\n",
    "sagdansiraliDizi = np.searchsorted(dizi,3, side=\"right\")\n",
    "sagdansiraliDizi"
   ]
  },
  {
   "cell_type": "code",
   "execution_count": 29,
   "id": "7ba66b33-7129-4129-8fec-1fe94ae5c433",
   "metadata": {},
   "outputs": [
    {
     "name": "stdout",
     "output_type": "stream",
     "text": [
      "[1 2 3]\n"
     ]
    }
   ],
   "source": [
    "dizi = np.array([1,3,5,7])\n",
    "eklenmesiDizi = np.searchsorted(dizi,[2,4,6])\n",
    "print(eklenmesiDizi)"
   ]
  }
 ],
 "metadata": {
  "kernelspec": {
   "display_name": "Python 3 (ipykernel)",
   "language": "python",
   "name": "python3"
  },
  "language_info": {
   "codemirror_mode": {
    "name": "ipython",
    "version": 3
   },
   "file_extension": ".py",
   "mimetype": "text/x-python",
   "name": "python",
   "nbconvert_exporter": "python",
   "pygments_lexer": "ipython3",
   "version": "3.9.6"
  }
 },
 "nbformat": 4,
 "nbformat_minor": 5
}
