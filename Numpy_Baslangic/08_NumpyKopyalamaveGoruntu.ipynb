{
 "cells": [
  {
   "cell_type": "markdown",
   "id": "b1d62d44-6ea6-41b8-be6c-1cd2b07431c5",
   "metadata": {},
   "source": [
    "25.01.2023"
   ]
  },
  {
   "cell_type": "markdown",
   "id": "a9eb84e0-4dce-430e-906a-6736651a958d",
   "metadata": {},
   "source": [
    "### Copy and View "
   ]
  },
  {
   "cell_type": "markdown",
   "id": "8083aad4-2ab6-4c73-ab87-6660b1ca368f",
   "metadata": {},
   "source": [
    "#### Copy"
   ]
  },
  {
   "cell_type": "code",
   "execution_count": 1,
   "id": "d09d149f-11a8-4df8-806f-2133b0c77d59",
   "metadata": {},
   "outputs": [
    {
     "name": "stdout",
     "output_type": "stream",
     "text": [
      "[42  2  3  4  5]\n",
      "[1 2 3 4 5]\n"
     ]
    }
   ],
   "source": [
    "# Kopyalama dizi verilerine sahiptir. Özgün görüntünün bir kopyasını oluştururur. \n",
    "# Kopyalamada yapılan değişiklikler kopyayı etkiler fakat özgün görüntüyü etkilemez.\n",
    "import numpy as np\n",
    "dizi = np.array([1,2,3,4,5])\n",
    "copy = dizi.copy()\n",
    "dizi[0] = 42\n",
    "print(dizi)\n",
    "print(copy)"
   ]
  },
  {
   "cell_type": "markdown",
   "id": "5d7044d2-2f9d-4b7c-9dee-078d7eb03a06",
   "metadata": {},
   "source": [
    "#### View"
   ]
  },
  {
   "cell_type": "code",
   "execution_count": 2,
   "id": "0bf31c39-bcf4-4ffc-885a-a7a4c6ac7e8e",
   "metadata": {},
   "outputs": [
    {
     "name": "stdout",
     "output_type": "stream",
     "text": [
      "[1 6 3 4 5]\n",
      "[1 6 3 4 5]\n"
     ]
    }
   ],
   "source": [
    "# Görünüm dizi verilerine sahip değildir. Özgün görüntünün kendisidir.\n",
    "# Görünümde yapılan değişiklikler hem görünümü etkiler hem de özgün diziyi etkiler.\n",
    "dizi = np.array([1,2,3,4,5])\n",
    "view = dizi.view()\n",
    "dizi[1] = 6\n",
    "print(dizi)\n",
    "print(view)"
   ]
  },
  {
   "cell_type": "code",
   "execution_count": 33,
   "id": "94c09003-50d2-48dc-ae2b-f33e8664366b",
   "metadata": {},
   "outputs": [
    {
     "name": "stdout",
     "output_type": "stream",
     "text": [
      "[3 6 3 4 5]\n",
      "[3 6 3 4 5]\n"
     ]
    }
   ],
   "source": [
    "dizi[0] = 3\n",
    "print(dizi)\n",
    "print(view)"
   ]
  },
  {
   "cell_type": "markdown",
   "id": "ab610f86-b51a-4437-be91-9a57b8fce7e9",
   "metadata": {
    "tags": []
   },
   "source": [
    "#### Base"
   ]
  },
  {
   "cell_type": "code",
   "execution_count": 3,
   "id": "19dafd6c-808c-4eb0-8c59-0c8c62000701",
   "metadata": {},
   "outputs": [],
   "source": [
    "# Base metoduyla dizinin verilere sahip olup olmadığını kontrol ederiz.\n",
    "# Eğer veriye sahipse None verir. Değilse diziyi döndürür."
   ]
  },
  {
   "cell_type": "code",
   "execution_count": 4,
   "id": "f49c5bdc-29fa-4b6d-94da-84161b5e6ee0",
   "metadata": {},
   "outputs": [
    {
     "name": "stdout",
     "output_type": "stream",
     "text": [
      "None\n",
      "[1 2 3 4 5]\n"
     ]
    }
   ],
   "source": [
    "dizi = np.array([1,2,3,4,5])\n",
    "copy = dizi.copy()\n",
    "view = dizi.view()\n",
    "\n",
    "print(copy.base)\n",
    "print(view.base)"
   ]
  },
  {
   "cell_type": "code",
   "execution_count": null,
   "id": "feafa348-d1d2-4ef0-912e-f59d910e3e0c",
   "metadata": {},
   "outputs": [],
   "source": []
  }
 ],
 "metadata": {
  "kernelspec": {
   "display_name": "Python 3 (ipykernel)",
   "language": "python",
   "name": "python3"
  },
  "language_info": {
   "codemirror_mode": {
    "name": "ipython",
    "version": 3
   },
   "file_extension": ".py",
   "mimetype": "text/x-python",
   "name": "python",
   "nbconvert_exporter": "python",
   "pygments_lexer": "ipython3",
   "version": "3.9.6"
  }
 },
 "nbformat": 4,
 "nbformat_minor": 5
}
